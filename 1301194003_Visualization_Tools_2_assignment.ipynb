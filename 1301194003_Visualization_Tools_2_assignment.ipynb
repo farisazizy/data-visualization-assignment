{
 "cells": [
  {
   "cell_type": "markdown",
   "source": [
    "Farishadi Mufakkir Azizy | 1301194003 | IF-42-GAB06"
   ],
   "metadata": {}
  },
  {
   "cell_type": "markdown",
   "source": [
    "# Downloading and Prepping Data <a id=\"2\"></a>"
   ],
   "metadata": {
    "button": false,
    "colab_type": "text",
    "id": "eOrotXqjrU9k",
    "new_sheet": false,
    "run_control": {
     "read_only": false
    }
   }
  },
  {
   "cell_type": "markdown",
   "source": [
    "Import primary modules."
   ],
   "metadata": {
    "button": false,
    "colab_type": "text",
    "id": "HlkvIvpOrU9l",
    "new_sheet": false,
    "run_control": {
     "read_only": false
    }
   }
  },
  {
   "cell_type": "code",
   "execution_count": 8,
   "source": [
    "import numpy as np  # useful for many scientific computing in Python\r\n",
    "import pandas as pd # primary data structure library\r\n",
    "\r\n",
    "import matplotlib as mpl\r\n",
    "import matplotlib.pyplot as plt\r\n",
    "mpl.style.use('ggplot')"
   ],
   "outputs": [],
   "metadata": {
    "button": false,
    "colab": {},
    "colab_type": "code",
    "id": "m6OpAccNrU9l",
    "new_sheet": false,
    "run_control": {
     "read_only": false
    }
   }
  },
  {
   "cell_type": "markdown",
   "source": [
    "Download the dataset and read it into a *pandas* dataframe."
   ],
   "metadata": {
    "button": false,
    "colab_type": "text",
    "id": "k6WJnInxrU9p",
    "new_sheet": false,
    "run_control": {
     "read_only": false
    }
   }
  },
  {
   "cell_type": "code",
   "execution_count": 2,
   "source": [
    "df_can = pd.read_excel('https://s3-api.us-geo.objectstorage.softlayer.net/cf-courses-data/CognitiveClass/DV0101EN/labs/Data_Files/Canada.xlsx',\r\n",
    "                       sheet_name='Canada by Citizenship',\r\n",
    "                       skiprows=range(20),\r\n",
    "                       skipfooter=2\r\n",
    "                      )\r\n",
    "\r\n",
    "print('Data downloaded and read into a dataframe!')"
   ],
   "outputs": [
    {
     "output_type": "stream",
     "name": "stdout",
     "text": [
      "Data downloaded and read into a dataframe!\n"
     ]
    }
   ],
   "metadata": {
    "button": false,
    "colab": {
     "base_uri": "https://localhost:8080/",
     "height": 34
    },
    "colab_type": "code",
    "executionInfo": {
     "elapsed": 7116,
     "status": "ok",
     "timestamp": 1561299358233,
     "user": {
      "displayName": "Dennis Aprilla Christie",
      "photoUrl": "https://lh3.googleusercontent.com/-W_6VdV2VWBM/AAAAAAAAAAI/AAAAAAAADr0/Jovfu3kCHdA/s64/photo.jpg",
      "userId": "09637515618974467169"
     },
     "user_tz": -420
    },
    "id": "L80QpVpOrU9p",
    "new_sheet": false,
    "outputId": "54b8f420-688b-4212-b1d1-72f745364fc6",
    "run_control": {
     "read_only": false
    }
   }
  },
  {
   "cell_type": "markdown",
   "source": [
    "Clean up data. We will make some modifications to the original dataset to make it easier to create our visualizations. Refer to *Introduction to Matplotlib and Line Plots* and *Area Plots, Histograms, and Bar Plots* for a detailed description of this preprocessing."
   ],
   "metadata": {
    "button": false,
    "colab_type": "text",
    "id": "VYd1elD1rU9x",
    "new_sheet": false,
    "run_control": {
     "read_only": false
    }
   }
  },
  {
   "cell_type": "code",
   "execution_count": 11,
   "source": [
    "# clean up the dataset to remove unnecessary columns (eg. REG) \r\n",
    "#df_can.drop(['AREA', 'REG', 'DEV', 'Type', 'Coverage'], axis=1, inplace=True)\r\n",
    "\r\n",
    "# let's rename the columns so that they make sense\r\n",
    "df_can.rename(columns={'OdName':'Country', 'AreaName':'Continent','RegName':'Region'}, inplace=True)\r\n",
    "\r\n",
    "# for sake of consistency, let's also make all column labels of type string\r\n",
    "df_can.columns = list(map(str, df_can.columns))\r\n",
    "\r\n",
    "# set the country name as index - useful for quickly looking up countries using .loc method\r\n",
    "#df_can.set_index('Country', inplace=True)\r\n",
    "\r\n",
    "# add total column\r\n",
    "df_can['Total'] = df_can.sum(axis=1)\r\n",
    "\r\n",
    "# years that we will be using in this lesson - useful for plotting later on\r\n",
    "years = list(map(str, range(1980, 2014)))\r\n",
    "print('data dimensions:', df_can.shape)\r\n",
    "\r\n",
    "df_can.head()"
   ],
   "outputs": [
    {
     "output_type": "stream",
     "name": "stdout",
     "text": [
      "data dimensions: (195, 38)\n"
     ]
    },
    {
     "output_type": "execute_result",
     "data": {
      "text/html": [
       "<div>\n",
       "<style scoped>\n",
       "    .dataframe tbody tr th:only-of-type {\n",
       "        vertical-align: middle;\n",
       "    }\n",
       "\n",
       "    .dataframe tbody tr th {\n",
       "        vertical-align: top;\n",
       "    }\n",
       "\n",
       "    .dataframe thead th {\n",
       "        text-align: right;\n",
       "    }\n",
       "</style>\n",
       "<table border=\"1\" class=\"dataframe\">\n",
       "  <thead>\n",
       "    <tr style=\"text-align: right;\">\n",
       "      <th></th>\n",
       "      <th>Continent</th>\n",
       "      <th>Region</th>\n",
       "      <th>DevName</th>\n",
       "      <th>1980</th>\n",
       "      <th>1981</th>\n",
       "      <th>1982</th>\n",
       "      <th>1983</th>\n",
       "      <th>1984</th>\n",
       "      <th>1985</th>\n",
       "      <th>1986</th>\n",
       "      <th>...</th>\n",
       "      <th>2005</th>\n",
       "      <th>2006</th>\n",
       "      <th>2007</th>\n",
       "      <th>2008</th>\n",
       "      <th>2009</th>\n",
       "      <th>2010</th>\n",
       "      <th>2011</th>\n",
       "      <th>2012</th>\n",
       "      <th>2013</th>\n",
       "      <th>Total</th>\n",
       "    </tr>\n",
       "    <tr>\n",
       "      <th>Country</th>\n",
       "      <th></th>\n",
       "      <th></th>\n",
       "      <th></th>\n",
       "      <th></th>\n",
       "      <th></th>\n",
       "      <th></th>\n",
       "      <th></th>\n",
       "      <th></th>\n",
       "      <th></th>\n",
       "      <th></th>\n",
       "      <th></th>\n",
       "      <th></th>\n",
       "      <th></th>\n",
       "      <th></th>\n",
       "      <th></th>\n",
       "      <th></th>\n",
       "      <th></th>\n",
       "      <th></th>\n",
       "      <th></th>\n",
       "      <th></th>\n",
       "      <th></th>\n",
       "    </tr>\n",
       "  </thead>\n",
       "  <tbody>\n",
       "    <tr>\n",
       "      <th>Afghanistan</th>\n",
       "      <td>Asia</td>\n",
       "      <td>Southern Asia</td>\n",
       "      <td>Developing regions</td>\n",
       "      <td>16</td>\n",
       "      <td>39</td>\n",
       "      <td>39</td>\n",
       "      <td>47</td>\n",
       "      <td>71</td>\n",
       "      <td>340</td>\n",
       "      <td>496</td>\n",
       "      <td>...</td>\n",
       "      <td>3436</td>\n",
       "      <td>3009</td>\n",
       "      <td>2652</td>\n",
       "      <td>2111</td>\n",
       "      <td>1746</td>\n",
       "      <td>1758</td>\n",
       "      <td>2203</td>\n",
       "      <td>2635</td>\n",
       "      <td>2004</td>\n",
       "      <td>175917</td>\n",
       "    </tr>\n",
       "    <tr>\n",
       "      <th>Albania</th>\n",
       "      <td>Europe</td>\n",
       "      <td>Southern Europe</td>\n",
       "      <td>Developed regions</td>\n",
       "      <td>1</td>\n",
       "      <td>0</td>\n",
       "      <td>0</td>\n",
       "      <td>0</td>\n",
       "      <td>0</td>\n",
       "      <td>0</td>\n",
       "      <td>1</td>\n",
       "      <td>...</td>\n",
       "      <td>1223</td>\n",
       "      <td>856</td>\n",
       "      <td>702</td>\n",
       "      <td>560</td>\n",
       "      <td>716</td>\n",
       "      <td>561</td>\n",
       "      <td>539</td>\n",
       "      <td>620</td>\n",
       "      <td>603</td>\n",
       "      <td>47097</td>\n",
       "    </tr>\n",
       "    <tr>\n",
       "      <th>Algeria</th>\n",
       "      <td>Africa</td>\n",
       "      <td>Northern Africa</td>\n",
       "      <td>Developing regions</td>\n",
       "      <td>80</td>\n",
       "      <td>67</td>\n",
       "      <td>71</td>\n",
       "      <td>69</td>\n",
       "      <td>63</td>\n",
       "      <td>44</td>\n",
       "      <td>69</td>\n",
       "      <td>...</td>\n",
       "      <td>3626</td>\n",
       "      <td>4807</td>\n",
       "      <td>3623</td>\n",
       "      <td>4005</td>\n",
       "      <td>5393</td>\n",
       "      <td>4752</td>\n",
       "      <td>4325</td>\n",
       "      <td>3774</td>\n",
       "      <td>4331</td>\n",
       "      <td>208317</td>\n",
       "    </tr>\n",
       "    <tr>\n",
       "      <th>American Samoa</th>\n",
       "      <td>Oceania</td>\n",
       "      <td>Polynesia</td>\n",
       "      <td>Developing regions</td>\n",
       "      <td>0</td>\n",
       "      <td>1</td>\n",
       "      <td>0</td>\n",
       "      <td>0</td>\n",
       "      <td>0</td>\n",
       "      <td>0</td>\n",
       "      <td>0</td>\n",
       "      <td>...</td>\n",
       "      <td>0</td>\n",
       "      <td>1</td>\n",
       "      <td>0</td>\n",
       "      <td>0</td>\n",
       "      <td>0</td>\n",
       "      <td>0</td>\n",
       "      <td>0</td>\n",
       "      <td>0</td>\n",
       "      <td>0</td>\n",
       "      <td>18</td>\n",
       "    </tr>\n",
       "    <tr>\n",
       "      <th>Andorra</th>\n",
       "      <td>Europe</td>\n",
       "      <td>Southern Europe</td>\n",
       "      <td>Developed regions</td>\n",
       "      <td>0</td>\n",
       "      <td>0</td>\n",
       "      <td>0</td>\n",
       "      <td>0</td>\n",
       "      <td>0</td>\n",
       "      <td>0</td>\n",
       "      <td>2</td>\n",
       "      <td>...</td>\n",
       "      <td>0</td>\n",
       "      <td>1</td>\n",
       "      <td>1</td>\n",
       "      <td>0</td>\n",
       "      <td>0</td>\n",
       "      <td>0</td>\n",
       "      <td>0</td>\n",
       "      <td>1</td>\n",
       "      <td>1</td>\n",
       "      <td>45</td>\n",
       "    </tr>\n",
       "  </tbody>\n",
       "</table>\n",
       "<p>5 rows × 38 columns</p>\n",
       "</div>"
      ],
      "text/plain": [
       "               Continent           Region             DevName  1980  1981  \\\n",
       "Country                                                                     \n",
       "Afghanistan         Asia    Southern Asia  Developing regions    16    39   \n",
       "Albania           Europe  Southern Europe   Developed regions     1     0   \n",
       "Algeria           Africa  Northern Africa  Developing regions    80    67   \n",
       "American Samoa   Oceania        Polynesia  Developing regions     0     1   \n",
       "Andorra           Europe  Southern Europe   Developed regions     0     0   \n",
       "\n",
       "                1982  1983  1984  1985  1986  ...  2005  2006  2007  2008  \\\n",
       "Country                                       ...                           \n",
       "Afghanistan       39    47    71   340   496  ...  3436  3009  2652  2111   \n",
       "Albania            0     0     0     0     1  ...  1223   856   702   560   \n",
       "Algeria           71    69    63    44    69  ...  3626  4807  3623  4005   \n",
       "American Samoa     0     0     0     0     0  ...     0     1     0     0   \n",
       "Andorra            0     0     0     0     2  ...     0     1     1     0   \n",
       "\n",
       "                2009  2010  2011  2012  2013   Total  \n",
       "Country                                               \n",
       "Afghanistan     1746  1758  2203  2635  2004  175917  \n",
       "Albania          716   561   539   620   603   47097  \n",
       "Algeria         5393  4752  4325  3774  4331  208317  \n",
       "American Samoa     0     0     0     0     0      18  \n",
       "Andorra            0     0     0     1     1      45  \n",
       "\n",
       "[5 rows x 38 columns]"
      ]
     },
     "metadata": {},
     "execution_count": 11
    }
   ],
   "metadata": {
    "button": false,
    "colab": {
     "base_uri": "https://localhost:8080/",
     "height": 34
    },
    "colab_type": "code",
    "executionInfo": {
     "elapsed": 6690,
     "status": "ok",
     "timestamp": 1561299358237,
     "user": {
      "displayName": "Dennis Aprilla Christie",
      "photoUrl": "https://lh3.googleusercontent.com/-W_6VdV2VWBM/AAAAAAAAAAI/AAAAAAAADr0/Jovfu3kCHdA/s64/photo.jpg",
      "userId": "09637515618974467169"
     },
     "user_tz": -420
    },
    "id": "XOr65n4trU9y",
    "new_sheet": false,
    "outputId": "4def2aea-b53f-4a47-aa85-6a43e73bc53b",
    "run_control": {
     "read_only": false
    }
   }
  },
  {
   "cell_type": "markdown",
   "source": [
    "**Question 1:** Using a pie chart, explore the proportion (percentage) of new immigrants grouped by continents in the year 2013.\r\n",
    "\r\n",
    "**Note**: You might need to play with the explore values in order to fix any overlapping slice values."
   ],
   "metadata": {
    "button": false,
    "colab_type": "text",
    "id": "uZ7ZcrfUrU-D",
    "new_sheet": false,
    "run_control": {
     "read_only": false
    }
   }
  },
  {
   "cell_type": "code",
   "execution_count": 37,
   "source": [
    "### type your answer here\r\n",
    "\r\n",
    "df_continents = df_can.groupby('Continent', axis=0).sum()\r\n",
    "\r\n",
    "explode_list = [0.1, 0, 0, 0, 0.1, 0.2] # ratio for each continent with which to offset each wedge.\r\n",
    "df_continents['2013'].plot(kind='pie',\r\n",
    "                            figsize=(12, 6),\r\n",
    "                            autopct='%1.1f%%', \r\n",
    "                            startangle=90,          \r\n",
    "                            labels=None,                 \r\n",
    "                            pctdistance=1.2,            \r\n",
    "                            explode=explode_list         \r\n",
    "                            )\r\n",
    "plt.title('Immigration to Canada by Continent in 2013', y=1.1) \r\n",
    "plt.axis('equal') \r\n",
    "plt.legend(labels=df_continents.index) \r\n",
    "plt.show()\r\n",
    "\r\n",
    "\r\n"
   ],
   "outputs": [
    {
     "output_type": "display_data",
     "data": {
      "image/png": "[encoded data removed]",
      "text/plain": [
       "<Figure size 864x432 with 1 Axes>"
      ]
     },
     "metadata": {}
    }
   ],
   "metadata": {
    "button": false,
    "colab": {},
    "colab_type": "code",
    "id": "v3JjdS-mrU-D",
    "new_sheet": false,
    "run_control": {
     "read_only": false
    }
   }
  },
  {
   "cell_type": "markdown",
   "source": [
    "**Question 2:** Compare the distribution of the number of immigrants from Pakistan and Afghanistan from 1980 to 2013."
   ],
   "metadata": {
    "button": false,
    "colab_type": "text",
    "id": "943LO07qrU-V",
    "new_sheet": false,
    "run_control": {
     "read_only": false
    }
   }
  },
  {
   "cell_type": "markdown",
   "source": [
    "Step 1: Get the dataset for Pakistan and Afghanistan and call the dataframe **df_PA**."
   ],
   "metadata": {
    "button": false,
    "colab_type": "text",
    "id": "72LNdQ9RrU-W",
    "new_sheet": false,
    "run_control": {
     "read_only": false
    }
   }
  },
  {
   "cell_type": "code",
   "execution_count": null,
   "source": [
    "### type your answer here\r\n",
    "\r\n",
    "\r\n",
    "\r\n"
   ],
   "outputs": [],
   "metadata": {
    "button": false,
    "colab": {},
    "colab_type": "code",
    "id": "OMfvH2aurU-Z",
    "new_sheet": false,
    "run_control": {
     "read_only": false
    }
   }
  },
  {
   "cell_type": "markdown",
   "source": [
    "Step 2: Plot data."
   ],
   "metadata": {
    "button": false,
    "colab_type": "text",
    "id": "hQYKR4T4rU-e",
    "new_sheet": false,
    "run_control": {
     "read_only": false
    }
   }
  },
  {
   "cell_type": "code",
   "execution_count": null,
   "source": [
    "### type your answer here\r\n",
    "\r\n",
    "\r\n",
    "\r\n"
   ],
   "outputs": [],
   "metadata": {
    "button": false,
    "colab": {},
    "colab_type": "code",
    "id": "iLUPNOixrU-f",
    "new_sheet": false,
    "run_control": {
     "read_only": false
    }
   }
  },
  {
   "cell_type": "markdown",
   "source": [
    "**Question 3**: Create a scatter plot of the total immigration from Denmark, Norway, and Sweden to Canada from 1980 to 2013?"
   ],
   "metadata": {
    "button": false,
    "colab_type": "text",
    "id": "bhFX3AbtrU_O",
    "new_sheet": false,
    "run_control": {
     "read_only": false
    }
   }
  },
  {
   "cell_type": "markdown",
   "source": [
    "Step 1: Get the data:\n",
    "   1. Create a dataframe the consists of the numbers associated with Denmark, Norway, and Sweden only. Name it **df_countries**.\n",
    "   2. Sum the immigration numbers across all three countries for each year and turn the result into a dataframe. Name this new dataframe **df_total**.\n",
    "   3. Reset the index in place.\n",
    "   4. Rename the columns to **year** and **total**.\n",
    "   5. Display the resulting dataframe."
   ],
   "metadata": {
    "button": false,
    "colab_type": "text",
    "id": "0pAGY-29rU_O",
    "new_sheet": false,
    "run_control": {
     "read_only": false
    }
   }
  },
  {
   "cell_type": "code",
   "execution_count": null,
   "source": [
    "### type your answer here\r\n",
    "\r\n",
    "\r\n",
    "\r\n"
   ],
   "outputs": [],
   "metadata": {
    "button": false,
    "colab": {},
    "colab_type": "code",
    "id": "FC4NtDn3rU_Q",
    "new_sheet": false,
    "run_control": {
     "read_only": false
    },
    "scrolled": true
   }
  },
  {
   "cell_type": "markdown",
   "source": [
    "Step 2: Generate the scatter plot by plotting the total versus year in **df_total**."
   ],
   "metadata": {
    "button": false,
    "colab_type": "text",
    "id": "Rfq2XmdYrU_U",
    "new_sheet": false,
    "run_control": {
     "read_only": false
    }
   }
  },
  {
   "cell_type": "code",
   "execution_count": null,
   "source": [
    "### type your answer here\r\n",
    "\r\n",
    "\r\n",
    "\r\n"
   ],
   "outputs": [],
   "metadata": {
    "button": false,
    "colab": {},
    "colab_type": "code",
    "id": "QS-dFL1prU_U",
    "new_sheet": false,
    "run_control": {
     "read_only": false
    }
   }
  },
  {
   "cell_type": "markdown",
   "source": [
    "**Question 4**: Previously in this lab, we created box plots to compare immigration from China and India to Canada. Create bubble plots of immigration from China and India to visualize any differences with time from 1980 to 2013. You can use **df_can_t** that we defined and used in the previous example."
   ],
   "metadata": {
    "button": false,
    "colab_type": "text",
    "id": "OMWnB404rU_h",
    "new_sheet": false,
    "run_control": {
     "read_only": false
    }
   }
  },
  {
   "cell_type": "markdown",
   "source": [
    "Step 1: Normalize the data pertaining to China and India."
   ],
   "metadata": {
    "button": false,
    "colab_type": "text",
    "id": "chmnaxQnrU_i",
    "new_sheet": false,
    "run_control": {
     "read_only": false
    }
   }
  },
  {
   "cell_type": "code",
   "execution_count": null,
   "source": [
    "### type your answer here\r\n",
    "\r\n",
    "\r\n",
    "\r\n"
   ],
   "outputs": [],
   "metadata": {
    "button": false,
    "colab": {},
    "colab_type": "code",
    "id": "eKUqolgorU_i",
    "new_sheet": false,
    "run_control": {
     "read_only": false
    }
   }
  },
  {
   "cell_type": "markdown",
   "source": [
    "Step 2: Generate the bubble plots."
   ],
   "metadata": {
    "button": false,
    "colab_type": "text",
    "id": "Fvp_gheyrU_k",
    "new_sheet": false,
    "run_control": {
     "read_only": false
    }
   }
  },
  {
   "cell_type": "code",
   "execution_count": null,
   "source": [
    "### type your answer here\r\n",
    "\r\n",
    "\r\n",
    "\r\n"
   ],
   "outputs": [],
   "metadata": {
    "button": false,
    "colab": {},
    "colab_type": "code",
    "id": "omlZBcNKrU_l",
    "new_sheet": false,
    "run_control": {
     "read_only": false
    }
   }
  },
  {
   "cell_type": "markdown",
   "source": [
    "# Thank you for completing this lab!"
   ],
   "metadata": {
    "button": false,
    "colab_type": "text",
    "id": "xTJ_gKTtrU_n",
    "new_sheet": false,
    "run_control": {
     "read_only": false
    }
   }
  },
  {
   "cell_type": "markdown",
   "source": [
    "<hr>\n",
    "\n",
    "Copyright &copy; 2019 [Cognitive Class](https://cognitiveclass.ai/?utm_source=bducopyrightlink&utm_medium=dswb&utm_campaign=bdu). This notebook and its source code are released under the terms of the [MIT License](https://bigdatauniversity.com/mit-license/)."
   ],
   "metadata": {
    "button": false,
    "colab_type": "text",
    "id": "cwgnIYRErU_o",
    "new_sheet": false,
    "run_control": {
     "read_only": false
    }
   }
  }
 ],
 "metadata": {
  "colab": {
   "collapsed_sections": [],
   "name": "DV0101EN-Exercise-Pie-Charts-Box-Plots-Scatter-Plots-and-Bubble-Plots-py.ipynb",
   "provenance": [],
   "toc_visible": true,
   "version": "0.3.2"
  },
  "kernelspec": {
   "name": "python3",
   "display_name": "Python 3.8.3 64-bit ('base': conda)"
  },
  "language_info": {
   "codemirror_mode": {
    "name": "ipython",
    "version": 3
   },
   "file_extension": ".py",
   "mimetype": "text/x-python",
   "name": "python",
   "nbconvert_exporter": "python",
   "pygments_lexer": "ipython3",
   "version": "3.8.3"
  },
  "interpreter": {
   "hash": "b3ba2566441a7c06988d0923437866b63cedc61552a5af99d1f4fb67d367b25f"
  }
 },
 "nbformat": 4,
 "nbformat_minor": 1
}