{
 "cells": [
  {
   "cell_type": "markdown",
   "source": [
    "Farishadi Mufakkir Azizy | 1301194003 | IF-42-GAB06"
   ],
   "metadata": {}
  },
  {
   "cell_type": "markdown",
   "source": [
    "# Downloading and Prepping Data <a id=\"2\"></a>"
   ],
   "metadata": {
    "button": false,
    "colab_type": "text",
    "id": "eOrotXqjrU9k",
    "new_sheet": false,
    "run_control": {
     "read_only": false
    }
   }
  },
  {
   "cell_type": "markdown",
   "source": [
    "Import primary modules."
   ],
   "metadata": {
    "button": false,
    "colab_type": "text",
    "id": "HlkvIvpOrU9l",
    "new_sheet": false,
    "run_control": {
     "read_only": false
    }
   }
  },
  {
   "cell_type": "code",
   "execution_count": 1,
   "source": [
    "import numpy as np  # useful for many scientific computing in Python\r\n",
    "import pandas as pd # primary data structure library"
   ],
   "outputs": [],
   "metadata": {
    "button": false,
    "colab": {},
    "colab_type": "code",
    "id": "m6OpAccNrU9l",
    "new_sheet": false,
    "run_control": {
     "read_only": false
    }
   }
  },
  {
   "cell_type": "markdown",
   "source": [
    "Download the dataset and read it into a *pandas* dataframe."
   ],
   "metadata": {
    "button": false,
    "colab_type": "text",
    "id": "k6WJnInxrU9p",
    "new_sheet": false,
    "run_control": {
     "read_only": false
    }
   }
  },
  {
   "cell_type": "code",
   "execution_count": 3,
   "source": [
    "df_can = pd.read_excel('https://s3-api.us-geo.objectstorage.softlayer.net/cf-courses-data/CognitiveClass/DV0101EN/labs/Data_Files/Canada.xlsx',\r\n",
    "                       sheet_name='Canada by Citizenship',\r\n",
    "                       skiprows=range(20),\r\n",
    "                       skipfooter=2\r\n",
    "                      )\r\n",
    "\r\n",
    "print('Data downloaded and read into a dataframe!')"
   ],
   "outputs": [
    {
     "output_type": "stream",
     "name": "stdout",
     "text": [
      "Data downloaded and read into a dataframe!\n"
     ]
    }
   ],
   "metadata": {
    "button": false,
    "colab": {
     "base_uri": "https://localhost:8080/",
     "height": 34
    },
    "colab_type": "code",
    "executionInfo": {
     "elapsed": 7116,
     "status": "ok",
     "timestamp": 1561299358233,
     "user": {
      "displayName": "Dennis Aprilla Christie",
      "photoUrl": "https://lh3.googleusercontent.com/-W_6VdV2VWBM/AAAAAAAAAAI/AAAAAAAADr0/Jovfu3kCHdA/s64/photo.jpg",
      "userId": "09637515618974467169"
     },
     "user_tz": -420
    },
    "id": "L80QpVpOrU9p",
    "new_sheet": false,
    "outputId": "54b8f420-688b-4212-b1d1-72f745364fc6",
    "run_control": {
     "read_only": false
    }
   }
  },
  {
   "cell_type": "markdown",
   "source": [
    "Clean up data. We will make some modifications to the original dataset to make it easier to create our visualizations. Refer to *Introduction to Matplotlib and Line Plots* and *Area Plots, Histograms, and Bar Plots* for a detailed description of this preprocessing."
   ],
   "metadata": {
    "button": false,
    "colab_type": "text",
    "id": "VYd1elD1rU9x",
    "new_sheet": false,
    "run_control": {
     "read_only": false
    }
   }
  },
  {
   "cell_type": "code",
   "execution_count": 31,
   "source": [
    "# clean up the dataset to remove unnecessary columns (eg. REG) \r\n",
    "df_can.drop(['AREA', 'REG', 'DEV', 'Type', 'Coverage'], axis=1, inplace=True)\r\n",
    "\r\n",
    "# let's rename the columns so that they make sense\r\n",
    "df_can.rename(columns={'OdName':'Country', 'AreaName':'Continent','RegName':'Region'}, inplace=True)\r\n",
    "\r\n",
    "# for sake of consistency, let's also make all column labels of type string\r\n",
    "df_can.columns = list(map(str, df_can.columns))\r\n",
    "\r\n",
    "# set the country name as index - useful for quickly looking up countries using .loc method\r\n",
    "df_can.set_index('Country', inplace=True)\r\n",
    "\r\n",
    "# add total column\r\n",
    "df_can['Total'] = df_can.sum(axis=1)\r\n",
    "\r\n",
    "# years that we will be using in this lesson - useful for plotting later on\r\n",
    "years = list(map(str, range(1980, 2014)))\r\n",
    "print('data dimensions:', df_can.shape)"
   ],
   "outputs": [
    {
     "output_type": "stream",
     "name": "stdout",
     "text": [
      "data dimensions: (195, 38)\n"
     ]
    }
   ],
   "metadata": {
    "button": false,
    "colab": {
     "base_uri": "https://localhost:8080/",
     "height": 34
    },
    "colab_type": "code",
    "executionInfo": {
     "elapsed": 6690,
     "status": "ok",
     "timestamp": 1561299358237,
     "user": {
      "displayName": "Dennis Aprilla Christie",
      "photoUrl": "https://lh3.googleusercontent.com/-W_6VdV2VWBM/AAAAAAAAAAI/AAAAAAAADr0/Jovfu3kCHdA/s64/photo.jpg",
      "userId": "09637515618974467169"
     },
     "user_tz": -420
    },
    "id": "XOr65n4trU9y",
    "new_sheet": false,
    "outputId": "4def2aea-b53f-4a47-aa85-6a43e73bc53b",
    "run_control": {
     "read_only": false
    }
   }
  },
  {
   "cell_type": "markdown",
   "source": [
    "**Question 1:** Using a pie chart, explore the proportion (percentage) of new immigrants grouped by continents in the year 2013.\r\n",
    "\r\n",
    "**Note**: You might need to play with the explore values in order to fix any overlapping slice values."
   ],
   "metadata": {
    "button": false,
    "colab_type": "text",
    "id": "uZ7ZcrfUrU-D",
    "new_sheet": false,
    "run_control": {
     "read_only": false
    }
   }
  },
  {
   "cell_type": "code",
   "execution_count": null,
   "source": [
    "### type your answer here\r\n",
    "\r\n",
    "\r\n",
    "\r\n"
   ],
   "outputs": [],
   "metadata": {
    "button": false,
    "colab": {},
    "colab_type": "code",
    "id": "v3JjdS-mrU-D",
    "new_sheet": false,
    "run_control": {
     "read_only": false
    }
   }
  },
  {
   "cell_type": "markdown",
   "source": [
    "**Question 2:** Compare the distribution of the number of immigrants from Pakistan and Afghanistan from 1980 to 2013."
   ],
   "metadata": {
    "button": false,
    "colab_type": "text",
    "id": "943LO07qrU-V",
    "new_sheet": false,
    "run_control": {
     "read_only": false
    }
   }
  },
  {
   "cell_type": "markdown",
   "source": [
    "Step 1: Get the dataset for Pakistan and Afghanistan and call the dataframe **df_PA**."
   ],
   "metadata": {
    "button": false,
    "colab_type": "text",
    "id": "72LNdQ9RrU-W",
    "new_sheet": false,
    "run_control": {
     "read_only": false
    }
   }
  },
  {
   "cell_type": "code",
   "execution_count": null,
   "source": [
    "### type your answer here\r\n",
    "\r\n",
    "\r\n",
    "\r\n"
   ],
   "outputs": [],
   "metadata": {
    "button": false,
    "colab": {},
    "colab_type": "code",
    "id": "OMfvH2aurU-Z",
    "new_sheet": false,
    "run_control": {
     "read_only": false
    }
   }
  },
  {
   "cell_type": "markdown",
   "source": [
    "Step 2: Plot data."
   ],
   "metadata": {
    "button": false,
    "colab_type": "text",
    "id": "hQYKR4T4rU-e",
    "new_sheet": false,
    "run_control": {
     "read_only": false
    }
   }
  },
  {
   "cell_type": "code",
   "execution_count": null,
   "source": [
    "### type your answer here\r\n",
    "\r\n",
    "\r\n",
    "\r\n"
   ],
   "outputs": [],
   "metadata": {
    "button": false,
    "colab": {},
    "colab_type": "code",
    "id": "iLUPNOixrU-f",
    "new_sheet": false,
    "run_control": {
     "read_only": false
    }
   }
  },
  {
   "cell_type": "markdown",
   "source": [
    "**Question 3**: Create a scatter plot of the total immigration from Denmark, Norway, and Sweden to Canada from 1980 to 2013?"
   ],
   "metadata": {
    "button": false,
    "colab_type": "text",
    "id": "bhFX3AbtrU_O",
    "new_sheet": false,
    "run_control": {
     "read_only": false
    }
   }
  },
  {
   "cell_type": "markdown",
   "source": [
    "Step 1: Get the data:\n",
    "   1. Create a dataframe the consists of the numbers associated with Denmark, Norway, and Sweden only. Name it **df_countries**.\n",
    "   2. Sum the immigration numbers across all three countries for each year and turn the result into a dataframe. Name this new dataframe **df_total**.\n",
    "   3. Reset the index in place.\n",
    "   4. Rename the columns to **year** and **total**.\n",
    "   5. Display the resulting dataframe."
   ],
   "metadata": {
    "button": false,
    "colab_type": "text",
    "id": "0pAGY-29rU_O",
    "new_sheet": false,
    "run_control": {
     "read_only": false
    }
   }
  },
  {
   "cell_type": "code",
   "execution_count": null,
   "source": [
    "### type your answer here\r\n",
    "\r\n",
    "\r\n",
    "\r\n"
   ],
   "outputs": [],
   "metadata": {
    "button": false,
    "colab": {},
    "colab_type": "code",
    "id": "FC4NtDn3rU_Q",
    "new_sheet": false,
    "run_control": {
     "read_only": false
    },
    "scrolled": true
   }
  },
  {
   "cell_type": "markdown",
   "source": [
    "Step 2: Generate the scatter plot by plotting the total versus year in **df_total**."
   ],
   "metadata": {
    "button": false,
    "colab_type": "text",
    "id": "Rfq2XmdYrU_U",
    "new_sheet": false,
    "run_control": {
     "read_only": false
    }
   }
  },
  {
   "cell_type": "code",
   "execution_count": null,
   "source": [
    "### type your answer here\r\n",
    "\r\n",
    "\r\n",
    "\r\n"
   ],
   "outputs": [],
   "metadata": {
    "button": false,
    "colab": {},
    "colab_type": "code",
    "id": "QS-dFL1prU_U",
    "new_sheet": false,
    "run_control": {
     "read_only": false
    }
   }
  },
  {
   "cell_type": "markdown",
   "source": [
    "**Question 4**: Previously in this lab, we created box plots to compare immigration from China and India to Canada. Create bubble plots of immigration from China and India to visualize any differences with time from 1980 to 2013. You can use **df_can_t** that we defined and used in the previous example."
   ],
   "metadata": {
    "button": false,
    "colab_type": "text",
    "id": "OMWnB404rU_h",
    "new_sheet": false,
    "run_control": {
     "read_only": false
    }
   }
  },
  {
   "cell_type": "markdown",
   "source": [
    "Step 1: Normalize the data pertaining to China and India."
   ],
   "metadata": {
    "button": false,
    "colab_type": "text",
    "id": "chmnaxQnrU_i",
    "new_sheet": false,
    "run_control": {
     "read_only": false
    }
   }
  },
  {
   "cell_type": "code",
   "execution_count": null,
   "source": [
    "### type your answer here\r\n",
    "\r\n",
    "\r\n",
    "\r\n"
   ],
   "outputs": [],
   "metadata": {
    "button": false,
    "colab": {},
    "colab_type": "code",
    "id": "eKUqolgorU_i",
    "new_sheet": false,
    "run_control": {
     "read_only": false
    }
   }
  },
  {
   "cell_type": "markdown",
   "source": [
    "Step 2: Generate the bubble plots."
   ],
   "metadata": {
    "button": false,
    "colab_type": "text",
    "id": "Fvp_gheyrU_k",
    "new_sheet": false,
    "run_control": {
     "read_only": false
    }
   }
  },
  {
   "cell_type": "code",
   "execution_count": null,
   "source": [
    "### type your answer here\r\n",
    "\r\n",
    "\r\n",
    "\r\n"
   ],
   "outputs": [],
   "metadata": {
    "button": false,
    "colab": {},
    "colab_type": "code",
    "id": "omlZBcNKrU_l",
    "new_sheet": false,
    "run_control": {
     "read_only": false
    }
   }
  },
  {
   "cell_type": "markdown",
   "source": [
    "# Thank you for completing this lab!"
   ],
   "metadata": {
    "button": false,
    "colab_type": "text",
    "id": "xTJ_gKTtrU_n",
    "new_sheet": false,
    "run_control": {
     "read_only": false
    }
   }
  },
  {
   "cell_type": "markdown",
   "source": [
    "<hr>\n",
    "\n",
    "Copyright &copy; 2019 [Cognitive Class](https://cognitiveclass.ai/?utm_source=bducopyrightlink&utm_medium=dswb&utm_campaign=bdu). This notebook and its source code are released under the terms of the [MIT License](https://bigdatauniversity.com/mit-license/)."
   ],
   "metadata": {
    "button": false,
    "colab_type": "text",
    "id": "cwgnIYRErU_o",
    "new_sheet": false,
    "run_control": {
     "read_only": false
    }
   }
  }
 ],
 "metadata": {
  "colab": {
   "collapsed_sections": [],
   "name": "DV0101EN-Exercise-Pie-Charts-Box-Plots-Scatter-Plots-and-Bubble-Plots-py.ipynb",
   "provenance": [],
   "toc_visible": true,
   "version": "0.3.2"
  },
  "kernelspec": {
   "name": "python3",
   "display_name": "Python 3.8.3 64-bit ('base': conda)"
  },
  "language_info": {
   "codemirror_mode": {
    "name": "ipython",
    "version": 3
   },
   "file_extension": ".py",
   "mimetype": "text/x-python",
   "name": "python",
   "nbconvert_exporter": "python",
   "pygments_lexer": "ipython3",
   "version": "3.8.3"
  },
  "interpreter": {
   "hash": "b3ba2566441a7c06988d0923437866b63cedc61552a5af99d1f4fb67d367b25f"
  }
 },
 "nbformat": 4,
 "nbformat_minor": 1
}