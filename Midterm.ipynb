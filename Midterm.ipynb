{
  "nbformat": 4,
  "nbformat_minor": 0,
  "metadata": {
    "orig_nbformat": 4,
    "language_info": {
      "name": "python",
      "version": "3.8.3",
      "mimetype": "text/x-python",
      "codemirror_mode": {
        "name": "ipython",
        "version": 3
      },
      "pygments_lexer": "ipython3",
      "nbconvert_exporter": "python",
      "file_extension": ".py"
    },
    "kernelspec": {
      "name": "python3",
      "display_name": "Python 3.8.3 64-bit ('base': conda)"
    },
    "interpreter": {
      "hash": "b3ba2566441a7c06988d0923437866b63cedc61552a5af99d1f4fb67d367b25f"
    },
    "colab": {
      "name": "Midterm Project_1301194003.ipynb",
      "provenance": [],
      "collapsed_sections": []
    }
  },
  "cells": [
    {
      "cell_type": "markdown",
      "metadata": {
        "id": "m_DTCdzjni9V"
      },
      "source": [
        "Farishadi Mufakkir Azizy"
      ]
    },
    {
      "cell_type": "code",
      "metadata": {
        "id": "O8DJ-OjLni9b"
      },
      "source": [
        "#Import Library\n",
        "import pandas as pd\n",
        "import numpy as np"
      ],
      "execution_count": 2,
      "outputs": []
    },
    {
      "cell_type": "code",
      "metadata": {
        "id": "UKO5_RPuni9d"
      },
      "source": [
        "import matplotlib as mpl\n",
        "import matplotlib.pyplot as plt\n",
        "import seaborn as sns"
      ],
      "execution_count": 3,
      "outputs": []
    },
    {
      "cell_type": "markdown",
      "metadata": {
        "id": "b_P_otrKni9d"
      },
      "source": [
        "# **Dataset 1**"
      ]
    },
    {
      "cell_type": "code",
      "metadata": {
        "colab": {
          "base_uri": "https://localhost:8080/",
          "height": 204
        },
        "id": "3hHgItf3ni9e",
        "outputId": "ceab6534-d301-4781-943b-559d341d58ae"
      },
      "source": [
        "df = pd.read_csv(\"Data Set 1.csv\")\n",
        "df.head()"
      ],
      "execution_count": 4,
      "outputs": [
        {
          "output_type": "execute_result",
          "data": {
            "text/html": [
              "<div>\n",
              "<style scoped>\n",
              "    .dataframe tbody tr th:only-of-type {\n",
              "        vertical-align: middle;\n",
              "    }\n",
              "\n",
              "    .dataframe tbody tr th {\n",
              "        vertical-align: top;\n",
              "    }\n",
              "\n",
              "    .dataframe thead th {\n",
              "        text-align: right;\n",
              "    }\n",
              "</style>\n",
              "<table border=\"1\" class=\"dataframe\">\n",
              "  <thead>\n",
              "    <tr style=\"text-align: right;\">\n",
              "      <th></th>\n",
              "      <th>date</th>\n",
              "      <th>new_tested</th>\n",
              "      <th>acc_tested</th>\n",
              "      <th>new_confirmed</th>\n",
              "      <th>acc_confirmed</th>\n",
              "      <th>acc_negative</th>\n",
              "      <th>being_checked</th>\n",
              "      <th>isolated</th>\n",
              "    </tr>\n",
              "  </thead>\n",
              "  <tbody>\n",
              "    <tr>\n",
              "      <th>0</th>\n",
              "      <td>02-Mar-20</td>\n",
              "      <td>339</td>\n",
              "      <td>339</td>\n",
              "      <td>2</td>\n",
              "      <td>2</td>\n",
              "      <td>335</td>\n",
              "      <td>2</td>\n",
              "      <td>2</td>\n",
              "    </tr>\n",
              "    <tr>\n",
              "      <th>1</th>\n",
              "      <td>03-Mar-20</td>\n",
              "      <td>2</td>\n",
              "      <td>341</td>\n",
              "      <td>0</td>\n",
              "      <td>2</td>\n",
              "      <td>337</td>\n",
              "      <td>2</td>\n",
              "      <td>2</td>\n",
              "    </tr>\n",
              "    <tr>\n",
              "      <th>2</th>\n",
              "      <td>04-Mar-20</td>\n",
              "      <td>31</td>\n",
              "      <td>372</td>\n",
              "      <td>0</td>\n",
              "      <td>2</td>\n",
              "      <td>356</td>\n",
              "      <td>14</td>\n",
              "      <td>2</td>\n",
              "    </tr>\n",
              "    <tr>\n",
              "      <th>3</th>\n",
              "      <td>05-Mar-20</td>\n",
              "      <td>16</td>\n",
              "      <td>388</td>\n",
              "      <td>0</td>\n",
              "      <td>2</td>\n",
              "      <td>371</td>\n",
              "      <td>15</td>\n",
              "      <td>2</td>\n",
              "    </tr>\n",
              "    <tr>\n",
              "      <th>4</th>\n",
              "      <td>06-Mar-20</td>\n",
              "      <td>62</td>\n",
              "      <td>450</td>\n",
              "      <td>2</td>\n",
              "      <td>4</td>\n",
              "      <td>422</td>\n",
              "      <td>24</td>\n",
              "      <td>4</td>\n",
              "    </tr>\n",
              "  </tbody>\n",
              "</table>\n",
              "</div>"
            ],
            "text/plain": [
              "        date  new_tested  acc_tested  ...  acc_negative  being_checked  isolated\n",
              "0  02-Mar-20         339         339  ...           335              2         2\n",
              "1  03-Mar-20           2         341  ...           337              2         2\n",
              "2  04-Mar-20          31         372  ...           356             14         2\n",
              "3  05-Mar-20          16         388  ...           371             15         2\n",
              "4  06-Mar-20          62         450  ...           422             24         4\n",
              "\n",
              "[5 rows x 8 columns]"
            ]
          },
          "metadata": {},
          "execution_count": 4
        }
      ]
    },
    {
      "cell_type": "markdown",
      "metadata": {
        "id": "-k_dBvmYni9f"
      },
      "source": [
        "**Soal 1:** Dengan menggunakan line plot, tampilkan perbandingan jumlah akumulatif tes sampel, \n",
        "terkonfirmasi positif dan terkonfirmasi negatif untuk periode waktu yang tersedia."
      ]
    },
    {
      "cell_type": "code",
      "metadata": {
        "colab": {
          "base_uri": "https://localhost:8080/"
        },
        "id": "CZKjc5Cyni9g",
        "outputId": "0ea19e83-0d8c-49e1-9a11-14dc6c494e8d"
      },
      "source": [
        "df1 = df[[\"date\", \"acc_tested\", \"acc_confirmed\", \"acc_negative\"]].copy()\n",
        "df1.set_index('date', inplace=True)\n",
        "df1.columns"
      ],
      "execution_count": 5,
      "outputs": [
        {
          "output_type": "execute_result",
          "data": {
            "text/plain": [
              "Index(['acc_tested', 'acc_confirmed', 'acc_negative'], dtype='object')"
            ]
          },
          "metadata": {},
          "execution_count": 5
        }
      ]
    },
    {
      "cell_type": "code",
      "metadata": {
        "colab": {
          "base_uri": "https://localhost:8080/",
          "height": 350
        },
        "id": "pk2Rxx5nni9h",
        "outputId": "7702d3b3-ea45-4989-b67e-1f5441098f53"
      },
      "source": [
        "#PLOT LINE\n",
        "df1.rename(columns={'acc_tested':'Tes Sampel', 'acc_confirmed':'Positive', 'acc_negative':'Negative'}, inplace=True)\n",
        "\n",
        "df1.plot(kind='line', figsize=(20, 5), marker='o')\n",
        "\n",
        "plt.title('Perbandingan Jumlah Akumulatif Tes Sampel, Terkonfirmasi Positif, dan Terkonfirmasi Negatif')\n",
        "plt.ylabel('Jumlah')\n",
        "plt.xlabel('Tanggal')\n",
        "plt.show()"
      ],
      "execution_count": 7,
      "outputs": [
        {
          "output_type": "display_data",
          "data": {
            "image/png": "[encoded data removed]",
            "text/plain": [
              "<Figure size 1440x360 with 1 Axes>"
            ]
          },
          "metadata": {
            "needs_background": "light"
          }
        }
      ]
    },
    {
      "cell_type": "markdown",
      "metadata": {
        "id": "PSispakSni9i"
      },
      "source": [
        "**Soal 2:**  \n",
        "- Hitunglah nilai positive rate dan negative rate untuk masing-masing waktu.\n",
        "\n",
        "Positive\trate\t= Jumlah\tterkonfirmasi\tpositif\n",
        "Jumlah\ttes\tsampel × 100%\n",
        "\n",
        "Negative\trate\t= Jumlah\tterkonfirmasi\tnegatif\n",
        "Jumlah\ttes\tsampel × 100%\n",
        "\n",
        "- Dengan menggunakan bar plot, tampilkan perbandingan positivity rate dan \n",
        "negativity rate untuk periode waktu yang tersedia.\n",
        "- Pada tanggal berapa nilai positive rate menunjukkan nilai tertinggi?\n",
        "- Pada tanggal berapa nilai negative rate menunjukkan nilai tertinggi?"
      ]
    },
    {
      "cell_type": "code",
      "metadata": {
        "colab": {
          "base_uri": "https://localhost:8080/",
          "height": 204
        },
        "id": "1sjAyp40ni9j",
        "outputId": "6d5e7857-fc07-40da-8b42-ba90887fca04"
      },
      "source": [
        "df2 = df[[\"date\", \"acc_tested\", \"acc_confirmed\", \"acc_negative\"]].copy()\n",
        "df2.rename(columns={'acc_tested':'Tes Sampel', 'acc_confirmed':'Positive', 'acc_negative':'Negative'}, inplace=True)\n",
        "\n",
        "positif = []\n",
        "negatif = []\n",
        "for i in range(0, len(df2)): #Membuat kolom baru dari perhitungan rate\n",
        "\n",
        "    positif.append((df2['Positive'] / df2['Tes Sampel'] ) * 100)\n",
        "    negatif.append(( df2['Negative'] / df2['Tes Sampel'] ) * 100)\n",
        "    df2['Positive Rate'] = positif[i]\n",
        "    df2['Negative Rate'] = negatif[i]\n",
        "\n",
        "df2.head()"
      ],
      "execution_count": 9,
      "outputs": [
        {
          "output_type": "execute_result",
          "data": {
            "text/html": [
              "<div>\n",
              "<style scoped>\n",
              "    .dataframe tbody tr th:only-of-type {\n",
              "        vertical-align: middle;\n",
              "    }\n",
              "\n",
              "    .dataframe tbody tr th {\n",
              "        vertical-align: top;\n",
              "    }\n",
              "\n",
              "    .dataframe thead th {\n",
              "        text-align: right;\n",
              "    }\n",
              "</style>\n",
              "<table border=\"1\" class=\"dataframe\">\n",
              "  <thead>\n",
              "    <tr style=\"text-align: right;\">\n",
              "      <th></th>\n",
              "      <th>date</th>\n",
              "      <th>Tes Sampel</th>\n",
              "      <th>Positive</th>\n",
              "      <th>Negative</th>\n",
              "      <th>Positive Rate</th>\n",
              "      <th>Negative Rate</th>\n",
              "    </tr>\n",
              "  </thead>\n",
              "  <tbody>\n",
              "    <tr>\n",
              "      <th>0</th>\n",
              "      <td>02-Mar-20</td>\n",
              "      <td>339</td>\n",
              "      <td>2</td>\n",
              "      <td>335</td>\n",
              "      <td>0.589971</td>\n",
              "      <td>98.820059</td>\n",
              "    </tr>\n",
              "    <tr>\n",
              "      <th>1</th>\n",
              "      <td>03-Mar-20</td>\n",
              "      <td>341</td>\n",
              "      <td>2</td>\n",
              "      <td>337</td>\n",
              "      <td>0.586510</td>\n",
              "      <td>98.826979</td>\n",
              "    </tr>\n",
              "    <tr>\n",
              "      <th>2</th>\n",
              "      <td>04-Mar-20</td>\n",
              "      <td>372</td>\n",
              "      <td>2</td>\n",
              "      <td>356</td>\n",
              "      <td>0.537634</td>\n",
              "      <td>95.698925</td>\n",
              "    </tr>\n",
              "    <tr>\n",
              "      <th>3</th>\n",
              "      <td>05-Mar-20</td>\n",
              "      <td>388</td>\n",
              "      <td>2</td>\n",
              "      <td>371</td>\n",
              "      <td>0.515464</td>\n",
              "      <td>95.618557</td>\n",
              "    </tr>\n",
              "    <tr>\n",
              "      <th>4</th>\n",
              "      <td>06-Mar-20</td>\n",
              "      <td>450</td>\n",
              "      <td>4</td>\n",
              "      <td>422</td>\n",
              "      <td>0.888889</td>\n",
              "      <td>93.777778</td>\n",
              "    </tr>\n",
              "  </tbody>\n",
              "</table>\n",
              "</div>"
            ],
            "text/plain": [
              "        date  Tes Sampel  Positive  Negative  Positive Rate  Negative Rate\n",
              "0  02-Mar-20         339         2       335       0.589971      98.820059\n",
              "1  03-Mar-20         341         2       337       0.586510      98.826979\n",
              "2  04-Mar-20         372         2       356       0.537634      95.698925\n",
              "3  05-Mar-20         388         2       371       0.515464      95.618557\n",
              "4  06-Mar-20         450         4       422       0.888889      93.777778"
            ]
          },
          "metadata": {},
          "execution_count": 9
        }
      ]
    },
    {
      "cell_type": "code",
      "metadata": {
        "id": "vvJl4cQjni9k"
      },
      "source": [
        "df2.set_index('date', inplace=True)"
      ],
      "execution_count": 10,
      "outputs": []
    },
    {
      "cell_type": "code",
      "metadata": {
        "colab": {
          "base_uri": "https://localhost:8080/",
          "height": 300
        },
        "id": "a86RRsSzni9k",
        "outputId": "329cf75d-6d65-4057-c2ac-e60827ba8c46"
      },
      "source": [
        "#PLOT BAR\n",
        "X = df2.index\n",
        "X_axis = np.arange(len(X))\n",
        "\n",
        "plt.bar(X_axis - 0.2, df2['Positive Rate'], 0.4, label = 'Positif')\n",
        "plt.bar(X_axis + 0.2, df2['Negative Rate'], 0.4, label = 'Negatif')\n",
        "\n",
        "plt.xticks(X_axis, X)\n",
        "plt.xlabel(\"Groups\")\n",
        "plt.ylabel(\"Persentase\")\n",
        "plt.title(\"Perbandingan Positivity Rate dan Negativity Rate Data Kasus Covid-19 di Indonesia Periode 2-31 Maret 2021\", \n",
        "          pad=20,\n",
        "          fontsize=30)\n",
        "plt.legend()\n",
        "fig = plt.gcf()\n",
        "fig.set_size_inches(40, 5)\n",
        "\n",
        "plt.show()"
      ],
      "execution_count": 11,
      "outputs": [
        {
          "output_type": "display_data",
          "data": {
            "image/png": "[encoded data removed]",
            "text/plain": [
              "<Figure size 2880x360 with 1 Axes>"
            ]
          },
          "metadata": {
            "needs_background": "light"
          }
        }
      ]
    },
    {
      "cell_type": "code",
      "metadata": {
        "colab": {
          "base_uri": "https://localhost:8080/"
        },
        "id": "R2o912QZni9l",
        "outputId": "743005b5-63f1-45d0-c7b3-5f2026736d93"
      },
      "source": [
        "#Positive Rate dan Negative Rate Tertinggi\n",
        "\n",
        "daypos = df2['Positive Rate'].idxmax()\n",
        "dayneg = df2['Negative Rate'].idxmax()\n",
        "print(\"Positive Rate Tertinggi: \", daypos, \" dengan persentase \", df2['Positive Rate'].max())\n",
        "print(\"Negative Rate Tertinggi: \", dayneg, \" dengan persentase \", df2['Negative Rate'].max())\n"
      ],
      "execution_count": 12,
      "outputs": [
        {
          "output_type": "stream",
          "name": "stdout",
          "text": [
            "Positive Rate Tertinggi:  31-Mar-20  dengan persentase  22.546849638483106\n",
            "Negative Rate Tertinggi:  03-Mar-20  dengan persentase  98.82697947214076\n"
          ]
        }
      ]
    },
    {
      "cell_type": "markdown",
      "metadata": {
        "id": "NfwUm9uPni9m"
      },
      "source": [
        "**Soal 3:** Dengan menggunakan heatmap, tunjukkan korelasi antar variabel yang ada pada \n",
        "dataset.\n",
        "- Tentukan variabel-variabel yang memiliki nilai korelasi paling positif, dan berikan \n",
        "penjelasan terkait nilai korelasi tersebut.\n",
        "- Tentukan variabel-variabel yang memiliki nilai korelasi paling negatif, dan berikan \n",
        "penjelasan terkait nilai korelasi tersebut"
      ]
    },
    {
      "cell_type": "code",
      "metadata": {
        "colab": {
          "base_uri": "https://localhost:8080/",
          "height": 378
        },
        "id": "d5NgqnK5ni9m",
        "outputId": "3312444c-e1cd-4ea3-bf69-ed93b4e5a7c0"
      },
      "source": [
        "df3 = df\n",
        "#df3.drop(['date'], axis=1, inplace=True)\n",
        "\n",
        "df3corr = df3.corr()\n",
        "sns.heatmap(df3corr, annot=True)\n",
        "plt.title(\"Korelasi Data Kasus Covid-19 di Indonesia Periode 2-31 Maret 2021\", \n",
        "         pad=20)\n"
      ],
      "execution_count": 13,
      "outputs": [
        {
          "output_type": "execute_result",
          "data": {
            "text/plain": [
              "Text(0.5, 1.0, 'Korelasi Data Kasus Covid-19 di Indonesia Periode 2-31 Maret 2021')"
            ]
          },
          "metadata": {},
          "execution_count": 13
        },
        {
          "output_type": "display_data",
          "data": {
            "image/png": "[encoded data removed]",
            "text/plain": [
              "<Figure size 432x288 with 2 Axes>"
            ]
          },
          "metadata": {
            "needs_background": "light"
          }
        }
      ]
    },
    {
      "cell_type": "markdown",
      "metadata": {
        "id": "_6esRhB7ni9n"
      },
      "source": [
        "**Nilai korelasi yang paling positif:**\n",
        "- Kolom acc_tested & acc_negative memiliki nilai korelasi = 1\n",
        "\n",
        "Banyak jumlah orang yang melakukan tes sampel (acc_tested) berbanding lurus dengan jumlah kasus yang terkonfirmasi negatif Covid-19 (acc_negative).\n",
        "\n",
        "- Kolom acc_confirmed & isolated memiliki nilai korelasi = 1\n",
        "\n",
        "Jika orang yang sudah melakukan tes sampel dan terkonfirmasi positif Covid-19 (acc_confirmed), maka orang tersebut perlu diisolasi (isolated). Maka kedua kolom tersebut berhubungan dengan korelasi positif.\n",
        "\n",
        "**Nilai korelasi yang paling negatif:**\n",
        "- Kolom being_checked & acc_tested memiliki nilai korelasi = -0.61 (paling kecil)\n",
        "\n",
        "Sampel yang sedang diperiksa (being_checked) tidak berhubungan dengan sampel yang sudah diperiksa (acc_tested) pada hari tersebut."
      ]
    },
    {
      "cell_type": "markdown",
      "metadata": {
        "id": "_c684qJLni9o"
      },
      "source": [
        "# **Dataset 2**"
      ]
    },
    {
      "cell_type": "code",
      "metadata": {
        "colab": {
          "base_uri": "https://localhost:8080/",
          "height": 235
        },
        "id": "LOP-LoHDni9o",
        "outputId": "48266f97-bb19-4978-aa1a-e3a3f27b8424"
      },
      "source": [
        "data = pd.read_csv('Data Set 2.csv')\n",
        "data.set_index('province_id', inplace=True)\n",
        "data.head()"
      ],
      "execution_count": 14,
      "outputs": [
        {
          "output_type": "execute_result",
          "data": {
            "text/html": [
              "<div>\n",
              "<style scoped>\n",
              "    .dataframe tbody tr th:only-of-type {\n",
              "        vertical-align: middle;\n",
              "    }\n",
              "\n",
              "    .dataframe tbody tr th {\n",
              "        vertical-align: top;\n",
              "    }\n",
              "\n",
              "    .dataframe thead th {\n",
              "        text-align: right;\n",
              "    }\n",
              "</style>\n",
              "<table border=\"1\" class=\"dataframe\">\n",
              "  <thead>\n",
              "    <tr style=\"text-align: right;\">\n",
              "      <th></th>\n",
              "      <th>province_name</th>\n",
              "      <th>island</th>\n",
              "      <th>iso_code</th>\n",
              "      <th>capital_city</th>\n",
              "      <th>population</th>\n",
              "      <th>population_kmsquare</th>\n",
              "      <th>confirmed</th>\n",
              "      <th>deceased</th>\n",
              "      <th>released</th>\n",
              "      <th>longitude</th>\n",
              "      <th>latitude</th>\n",
              "    </tr>\n",
              "    <tr>\n",
              "      <th>province_id</th>\n",
              "      <th></th>\n",
              "      <th></th>\n",
              "      <th></th>\n",
              "      <th></th>\n",
              "      <th></th>\n",
              "      <th></th>\n",
              "      <th></th>\n",
              "      <th></th>\n",
              "      <th></th>\n",
              "      <th></th>\n",
              "      <th></th>\n",
              "    </tr>\n",
              "  </thead>\n",
              "  <tbody>\n",
              "    <tr>\n",
              "      <th>1</th>\n",
              "      <td>Aceh</td>\n",
              "      <td>Sumatra</td>\n",
              "      <td>AC</td>\n",
              "      <td>Banda Aceh</td>\n",
              "      <td>4906835</td>\n",
              "      <td>86</td>\n",
              "      <td>4</td>\n",
              "      <td>0</td>\n",
              "      <td>0</td>\n",
              "      <td>9.672.895</td>\n",
              "      <td>3.869.994</td>\n",
              "    </tr>\n",
              "    <tr>\n",
              "      <th>2</th>\n",
              "      <td>Bali</td>\n",
              "      <td>Kepulauan Nusa Tenggara</td>\n",
              "      <td>BA</td>\n",
              "      <td>Denpasar</td>\n",
              "      <td>4104900</td>\n",
              "      <td>738</td>\n",
              "      <td>9</td>\n",
              "      <td>2</td>\n",
              "      <td>0</td>\n",
              "      <td>11.512.255</td>\n",
              "      <td>-825.731</td>\n",
              "    </tr>\n",
              "    <tr>\n",
              "      <th>3</th>\n",
              "      <td>Banten</td>\n",
              "      <td>Jawa</td>\n",
              "      <td>BT</td>\n",
              "      <td>Serang</td>\n",
              "      <td>11704877</td>\n",
              "      <td>1298</td>\n",
              "      <td>84</td>\n",
              "      <td>4</td>\n",
              "      <td>1</td>\n",
              "      <td>106.160.889</td>\n",
              "      <td>-6.315.299</td>\n",
              "    </tr>\n",
              "    <tr>\n",
              "      <th>4</th>\n",
              "      <td>Bengkulu</td>\n",
              "      <td>Sumatra</td>\n",
              "      <td>BE</td>\n",
              "      <td>Bengkulu</td>\n",
              "      <td>1844800</td>\n",
              "      <td>93</td>\n",
              "      <td>0</td>\n",
              "      <td>0</td>\n",
              "      <td>0</td>\n",
              "      <td>102.315.674</td>\n",
              "      <td>-3.414.725</td>\n",
              "    </tr>\n",
              "    <tr>\n",
              "      <th>5</th>\n",
              "      <td>DI Yogyakarta</td>\n",
              "      <td>Jawa</td>\n",
              "      <td>YO</td>\n",
              "      <td>Yogyakarta</td>\n",
              "      <td>3553100</td>\n",
              "      <td>1134</td>\n",
              "      <td>22</td>\n",
              "      <td>2</td>\n",
              "      <td>1</td>\n",
              "      <td>110.390.625</td>\n",
              "      <td>-7.863.382</td>\n",
              "    </tr>\n",
              "  </tbody>\n",
              "</table>\n",
              "</div>"
            ],
            "text/plain": [
              "             province_name                   island  ...    longitude    latitude\n",
              "province_id                                          ...                         \n",
              "1                     Aceh                  Sumatra  ...    9.672.895   3.869.994\n",
              "2                     Bali  Kepulauan Nusa Tenggara  ...   11.512.255    -825.731\n",
              "3                   Banten                     Jawa  ...  106.160.889  -6.315.299\n",
              "4                 Bengkulu                  Sumatra  ...  102.315.674  -3.414.725\n",
              "5            DI Yogyakarta                     Jawa  ...  110.390.625  -7.863.382\n",
              "\n",
              "[5 rows x 11 columns]"
            ]
          },
          "metadata": {},
          "execution_count": 14
        }
      ]
    },
    {
      "cell_type": "markdown",
      "metadata": {
        "id": "9B0APi0wni9p"
      },
      "source": [
        "**Soal 4:**\n",
        "- Hitunglah nilai persentase perbandingan jumlah terkonfirmasi positif terhadap \n",
        "populasi per km2 untuk masing-masing provinsi.\n",
        "- Dengan menggunakan bar plot, tampilkan perbandingan nilai persentase tersebut \n",
        "untuk masing-masing provinsi.\n",
        "- Tampilkan 3 provinsi dengan nilai persentasi terbesar beserta nilai persentasenya."
      ]
    },
    {
      "cell_type": "code",
      "metadata": {
        "id": "KJ1sptonni9p"
      },
      "source": [
        "data4 = data\n",
        "\n",
        "percentage = []\n",
        "negatif = []\n",
        "for i in range(0, len(data)): #Membuat kolom baru percentage_rate\n",
        "\n",
        "    percentage.append((data['confirmed'] / data['population_kmsquare'] ) * 100)\n",
        "    data4['percentage_rate'] = percentage[i]"
      ],
      "execution_count": 28,
      "outputs": []
    },
    {
      "cell_type": "code",
      "metadata": {
        "colab": {
          "base_uri": "https://localhost:8080/",
          "height": 373
        },
        "id": "r9II_KLKni9p",
        "outputId": "c76087f3-5cd9-4189-d74e-f12b99e12fd9"
      },
      "source": [
        "#PLOT BAR\n",
        "\n",
        "data4['percentage_rate'].plot(kind=\"bar\", figsize=(15,5))\n",
        "plt.title(\"Data Kasus Covid-19 Masing-Masing Provinsi di Indonesia\", \n",
        "         pad=10)\n",
        "plt.xlabel(\"Provinsi (Kode)\")\n",
        "plt.ylabel(\"Persentase\")"
      ],
      "execution_count": 19,
      "outputs": [
        {
          "output_type": "execute_result",
          "data": {
            "text/plain": [
              "Text(0, 0.5, 'Persentase')"
            ]
          },
          "metadata": {},
          "execution_count": 19
        },
        {
          "output_type": "display_data",
          "data": {
            "image/png": "[encoded data removed]",
            "text/plain": [
              "<Figure size 1080x360 with 1 Axes>"
            ]
          },
          "metadata": {
            "needs_background": "light"
          }
        }
      ]
    },
    {
      "cell_type": "code",
      "metadata": {
        "colab": {
          "base_uri": "https://localhost:8080/",
          "height": 173
        },
        "id": "ukfuibzBni9q",
        "outputId": "471bfda5-816f-4b75-f0d5-8cba6cb03350"
      },
      "source": [
        "data_percent = data4.sort_values(by=['percentage_rate'], ascending=False)\n",
        "data_percent.head(3)"
      ],
      "execution_count": 20,
      "outputs": [
        {
          "output_type": "execute_result",
          "data": {
            "text/html": [
              "<div>\n",
              "<style scoped>\n",
              "    .dataframe tbody tr th:only-of-type {\n",
              "        vertical-align: middle;\n",
              "    }\n",
              "\n",
              "    .dataframe tbody tr th {\n",
              "        vertical-align: top;\n",
              "    }\n",
              "\n",
              "    .dataframe thead th {\n",
              "        text-align: right;\n",
              "    }\n",
              "</style>\n",
              "<table border=\"1\" class=\"dataframe\">\n",
              "  <thead>\n",
              "    <tr style=\"text-align: right;\">\n",
              "      <th></th>\n",
              "      <th>province_name</th>\n",
              "      <th>island</th>\n",
              "      <th>iso_code</th>\n",
              "      <th>capital_city</th>\n",
              "      <th>population</th>\n",
              "      <th>population_kmsquare</th>\n",
              "      <th>confirmed</th>\n",
              "      <th>deceased</th>\n",
              "      <th>released</th>\n",
              "      <th>longitude</th>\n",
              "      <th>latitude</th>\n",
              "      <th>percentage_rate</th>\n",
              "    </tr>\n",
              "    <tr>\n",
              "      <th>province_id</th>\n",
              "      <th></th>\n",
              "      <th></th>\n",
              "      <th></th>\n",
              "      <th></th>\n",
              "      <th></th>\n",
              "      <th></th>\n",
              "      <th></th>\n",
              "      <th></th>\n",
              "      <th></th>\n",
              "      <th></th>\n",
              "      <th></th>\n",
              "      <th></th>\n",
              "    </tr>\n",
              "  </thead>\n",
              "  <tbody>\n",
              "    <tr>\n",
              "      <th>24</th>\n",
              "      <td>Papua</td>\n",
              "      <td>Papua</td>\n",
              "      <td>PA</td>\n",
              "      <td>Jayapura</td>\n",
              "      <td>3091047</td>\n",
              "      <td>10</td>\n",
              "      <td>7</td>\n",
              "      <td>0</td>\n",
              "      <td>0</td>\n",
              "      <td>138.570.557</td>\n",
              "      <td>-3.579.213</td>\n",
              "      <td>70.000000</td>\n",
              "    </tr>\n",
              "    <tr>\n",
              "      <th>15</th>\n",
              "      <td>Kalimantan Timur</td>\n",
              "      <td>Kalimantan</td>\n",
              "      <td>KI</td>\n",
              "      <td>Samarinda</td>\n",
              "      <td>3351432</td>\n",
              "      <td>17</td>\n",
              "      <td>11</td>\n",
              "      <td>0</td>\n",
              "      <td>0</td>\n",
              "      <td>116.806.641</td>\n",
              "      <td>0.307616</td>\n",
              "      <td>64.705882</td>\n",
              "    </tr>\n",
              "    <tr>\n",
              "      <th>6</th>\n",
              "      <td>DKI Jakarta</td>\n",
              "      <td>Jawa</td>\n",
              "      <td>JK</td>\n",
              "      <td>Jakarta</td>\n",
              "      <td>10012271</td>\n",
              "      <td>1353</td>\n",
              "      <td>598</td>\n",
              "      <td>51</td>\n",
              "      <td>31</td>\n",
              "      <td>106.853.027</td>\n",
              "      <td>-6.162.401</td>\n",
              "      <td>44.198078</td>\n",
              "    </tr>\n",
              "  </tbody>\n",
              "</table>\n",
              "</div>"
            ],
            "text/plain": [
              "                province_name      island  ...    latitude percentage_rate\n",
              "province_id                                ...                            \n",
              "24                      Papua       Papua  ...  -3.579.213       70.000000\n",
              "15           Kalimantan Timur  Kalimantan  ...    0.307616       64.705882\n",
              "6                 DKI Jakarta        Jawa  ...  -6.162.401       44.198078\n",
              "\n",
              "[3 rows x 12 columns]"
            ]
          },
          "metadata": {},
          "execution_count": 20
        }
      ]
    },
    {
      "cell_type": "markdown",
      "metadata": {
        "id": "5aqkFBXsni9q"
      },
      "source": [
        "**Soal 5**\n",
        "Dengan menggunakan pie chart, tampilkan persentase jumlah terkonfimasi positif untuk masing-masing pulau."
      ]
    },
    {
      "cell_type": "code",
      "metadata": {
        "colab": {
          "base_uri": "https://localhost:8080/",
          "height": 297
        },
        "id": "Uh6PFp40pv42",
        "outputId": "0429445e-ffb6-4633-c8ac-6967dca79318"
      },
      "source": [
        "data_pulau = data.groupby('island', axis=0).sum()\n",
        "data_pulau"
      ],
      "execution_count": 29,
      "outputs": [
        {
          "output_type": "execute_result",
          "data": {
            "text/html": [
              "<div>\n",
              "<style scoped>\n",
              "    .dataframe tbody tr th:only-of-type {\n",
              "        vertical-align: middle;\n",
              "    }\n",
              "\n",
              "    .dataframe tbody tr th {\n",
              "        vertical-align: top;\n",
              "    }\n",
              "\n",
              "    .dataframe thead th {\n",
              "        text-align: right;\n",
              "    }\n",
              "</style>\n",
              "<table border=\"1\" class=\"dataframe\">\n",
              "  <thead>\n",
              "    <tr style=\"text-align: right;\">\n",
              "      <th></th>\n",
              "      <th>population</th>\n",
              "      <th>population_kmsquare</th>\n",
              "      <th>confirmed</th>\n",
              "      <th>deceased</th>\n",
              "      <th>released</th>\n",
              "      <th>percentage_rate</th>\n",
              "    </tr>\n",
              "    <tr>\n",
              "      <th>island</th>\n",
              "      <th></th>\n",
              "      <th></th>\n",
              "      <th></th>\n",
              "      <th></th>\n",
              "      <th></th>\n",
              "      <th></th>\n",
              "    </tr>\n",
              "  </thead>\n",
              "  <tbody>\n",
              "    <tr>\n",
              "      <th>Jawa</th>\n",
              "      <td>143432781</td>\n",
              "      <td>6883</td>\n",
              "      <td>911</td>\n",
              "      <td>81</td>\n",
              "      <td>46</td>\n",
              "      <td>72.663077</td>\n",
              "    </tr>\n",
              "    <tr>\n",
              "      <th>Kalimantan</th>\n",
              "      <td>15048557</td>\n",
              "      <td>190</td>\n",
              "      <td>22</td>\n",
              "      <td>0</td>\n",
              "      <td>0</td>\n",
              "      <td>112.896559</td>\n",
              "    </tr>\n",
              "    <tr>\n",
              "      <th>Kepulauan Maluku</th>\n",
              "      <td>2796076</td>\n",
              "      <td>61</td>\n",
              "      <td>2</td>\n",
              "      <td>0</td>\n",
              "      <td>0</td>\n",
              "      <td>6.644880</td>\n",
              "    </tr>\n",
              "    <tr>\n",
              "      <th>Kepulauan Nusa Tenggara</th>\n",
              "      <td>13915592</td>\n",
              "      <td>1083</td>\n",
              "      <td>11</td>\n",
              "      <td>2</td>\n",
              "      <td>0</td>\n",
              "      <td>2.056332</td>\n",
              "    </tr>\n",
              "    <tr>\n",
              "      <th>Papua</th>\n",
              "      <td>3940856</td>\n",
              "      <td>12</td>\n",
              "      <td>7</td>\n",
              "      <td>0</td>\n",
              "      <td>0</td>\n",
              "      <td>70.000000</td>\n",
              "    </tr>\n",
              "    <tr>\n",
              "      <th>Sulawesi</th>\n",
              "      <td>18471854</td>\n",
              "      <td>631</td>\n",
              "      <td>35</td>\n",
              "      <td>1</td>\n",
              "      <td>0</td>\n",
              "      <td>23.875150</td>\n",
              "    </tr>\n",
              "    <tr>\n",
              "      <th>Sumatra</th>\n",
              "      <td>54412234</td>\n",
              "      <td>1257</td>\n",
              "      <td>29</td>\n",
              "      <td>2</td>\n",
              "      <td>0</td>\n",
              "      <td>21.065740</td>\n",
              "    </tr>\n",
              "  </tbody>\n",
              "</table>\n",
              "</div>"
            ],
            "text/plain": [
              "                         population  ...  percentage_rate\n",
              "island                               ...                 \n",
              "Jawa                      143432781  ...        72.663077\n",
              "Kalimantan                 15048557  ...       112.896559\n",
              "Kepulauan Maluku            2796076  ...         6.644880\n",
              "Kepulauan Nusa Tenggara    13915592  ...         2.056332\n",
              "Papua                       3940856  ...        70.000000\n",
              "Sulawesi                   18471854  ...        23.875150\n",
              "Sumatra                    54412234  ...        21.065740\n",
              "\n",
              "[7 rows x 6 columns]"
            ]
          },
          "metadata": {},
          "execution_count": 29
        }
      ]
    },
    {
      "cell_type": "code",
      "metadata": {
        "colab": {
          "base_uri": "https://localhost:8080/",
          "height": 406
        },
        "id": "hYL-a6-eni9r",
        "outputId": "57ca4fde-5f00-4bac-d8d2-7162618a6214"
      },
      "source": [
        "explode_list = [0.1, 0.1, 0.12 , 0.14, 0.16, 0.18, 0.2] #ratio\n",
        "\n",
        "data_pulau['confirmed'].plot(kind='pie',\n",
        "                            figsize=(11, 6),\n",
        "                            autopct='%1.1f%%', \n",
        "                            startangle=90,    \n",
        "                            #shadow=True,       \n",
        "                            labels=None,         \n",
        "                            pctdistance=1.1,\n",
        "                            textprops={'fontsize': 7},    \n",
        "                            explode=explode_list \n",
        "                            )\n",
        "\n",
        "plt.title('Data Kasus Covid-19 Masing-Masing Pulau di Indonesia', y=1.1) \n",
        "plt.axis('equal') \n",
        "plt.legend(labels=data_pulau.index, loc='upper left') \n",
        "\n",
        "plt.show()"
      ],
      "execution_count": 45,
      "outputs": [
        {
          "output_type": "display_data",
          "data": {
            "image/png": "[encoded data removed]",
            "text/plain": [
              "<Figure size 792x432 with 1 Axes>"
            ]
          },
          "metadata": {}
        }
      ]
    }
  ]
}